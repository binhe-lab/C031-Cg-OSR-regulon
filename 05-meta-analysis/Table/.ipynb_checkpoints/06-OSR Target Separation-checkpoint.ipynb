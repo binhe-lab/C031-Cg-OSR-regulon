{
 "cells": [
  {
   "cell_type": "code",
   "execution_count": null,
   "metadata": {},
   "outputs": [],
   "source": [
    "from fcmeans import FCM\n",
    "from sklearn.datasets import make_blobs\n",
    "from matplotlib import pyplot as plt\n",
    "from seaborn import scatterplot as scatter\n",
    "\n",
    "\n",
    "# create artifitial dataset\n",
    "n_samples = 50\n",
    "n_bins = 3  # use 3 bins for calibration_curve as we have 3 clusters here\n",
    "centers = [(-5, -5), (0, 0), (5, 5)]\n",
    "\n",
    "X,_ = make_blobs(n_samples=n_samples, n_features=2, cluster_std=1.0,\n",
    "                  centers=centers, shuffle=False, random_state=42)\n",
    "\n",
    "# fit the fuzzy-c-means\n",
    "fcm = FCM(n_clusters=3)\n",
    "fcm.fit(X)\n",
    "\n",
    "# outputs\n",
    "fcm_centers = fcm.centers\n",
    "fcm_labels  = fcm.u.argmax(axis=1)\n"
   ]
  },
  {
   "cell_type": "code",
   "execution_count": null,
   "metadata": {},
   "outputs": [],
   "source": [
    "# plot result\n",
    "%matplotlib inline\n",
    "f, axes = plt.subplots(1, 2, figsize=(11,5))\n",
    "scatter(X[:,0], X[:,1], ax=axes[0])\n",
    "scatter(X[:,0], X[:,1], ax=axes[1], hue=fcm_labels)\n",
    "scatter(fcm_centers[:,0], fcm_centers[:,1], ax=axes[1],marker=\"s\",s=200)\n",
    "plt.show()"
   ]
  }
 ],
 "metadata": {
  "kernelspec": {
   "display_name": "Python 3",
   "language": "python",
   "name": "python3"
  }
 },
 "nbformat": 4,
 "nbformat_minor": 2
}
