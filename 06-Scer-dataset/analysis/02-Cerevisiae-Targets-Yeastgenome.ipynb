{
 "cells": [
  {
   "cell_type": "code",
   "execution_count": 43,
   "metadata": {},
   "outputs": [
    {
     "name": "stdout",
     "output_type": "stream",
     "text": [
      "109 targets found for S.cerevisiae\n"
     ]
    }
   ],
   "source": [
    "'''\n",
    "Target list source: https://www.yeastgenome.org/locus/S000004466/regulation\n",
    "Goal: Take the list of targets for ScYap1 and indentify those with oxidative stress annoations, \n",
    "then use the identified genes to compare with C.glabrata targets\n",
    "'''\n",
    "\n",
    "import pandas as pd\n",
    "\n",
    "targ = pd.read_csv('../data/yeast_genome_cerevisiae_YAP1_targets.txt', \n",
    "                   delimiter='\\t', skiprows=8)\n",
    "\n",
    "targ_anno = targ.loc[:, ['Target Systematic Name', 'Happens During', 'Happens During.1']]\n",
    "\n",
    "keyword = 'ox'  # Find this phrase in any annotations\n",
    "ox_targ = []  # genes in target list related to oxidative stress\n",
    "for index, row in targ_anno.iterrows():\n",
    "    if (keyword in str(row['Happens During'])) or (keyword in str(row['Happens During.1'])):\n",
    "        ox_targ.append(row['Target Systematic Name'])\n",
    "\n",
    "sc_yap1_targets = targ_anno[targ_anno.loc[:, 'Target Systematic Name'].isin(ox_targ)]\n",
    "sc_yap1_targets = sc_yap1_targets.loc[:, 'Target Systematic Name'].tolist()\n",
    "print(len(sc_yap1_targets), 'targets found for S.cerevisiae')"
   ]
  },
  {
   "cell_type": "code",
   "execution_count": 57,
   "metadata": {},
   "outputs": [
    {
     "name": "stdout",
     "output_type": "stream",
     "text": [
      "70 targets have orthologs in C.glabrata\n",
      "39 targets in S.cerevisiae had no ortholog in C.glabrata\n"
     ]
    }
   ],
   "source": [
    "'''\n",
    "Relational list source: http://www.candidagenome.org/download/homology/orthologs/\n",
    "Goal: Take the relational list of orthologues across different yeast species and find which\n",
    "S.cerevisiae genes correspond to which C.glabrata genes\n",
    "'''\n",
    "\n",
    "rel = pd.read_csv('../data/All_Species_Orthologs_from_CGOB.txt', delimiter='\\t')\n",
    "conversion = rel.loc[:, ['Saccharomyces cerevisiae S288C', 'Candida glabrata CBS138']]\n",
    "conversion = conversion[conversion.loc[:, 'Saccharomyces cerevisiae S288C'].isin(sc_yap1_targets)]\n",
    "cg_genes = conversion.loc[:, 'Candida glabrata CBS138'].tolist()\n",
    "cg_genes = [gene for gene in cg_genes if not type(gene) == float]\n",
    "\n",
    "print(len(cg_genes), 'targets have orthologs in C.glabrata')\n",
    "print(len(sc_yap1_targets) - len(cg_genes), 'targets in S.cerevisiae had no ortholog in C.glabrata')\n"
   ]
  },
  {
   "cell_type": "code",
   "execution_count": 68,
   "metadata": {},
   "outputs": [
    {
     "name": "stdout",
     "output_type": "stream",
     "text": [
      "206 targets for C.glabrata based on meta-analysis\n",
      "3 targets overlapped between sets\n",
      "['CAGL0F05137g', 'CAGL0L04664g', 'CAGL0G01540g']\n"
     ]
    }
   ],
   "source": [
    "'''\n",
    "Goal: Compare the S.cerevisiae targets with C.glabrata orthologs to C.glabrata targets from\n",
    "meta-analysis\n",
    "'''\n",
    "\n",
    "cg_targs = pd.read_csv('../data/glabrata_target_genes.txt').iloc[:, 0].tolist()\n",
    "print(len(cg_targs), 'targets for C.glabrata based on meta-analysis')\n",
    "\n",
    "overlap_targs = [gene for gene in cg_genes if gene in cg_targs]\n",
    "print(len(overlap_targs), 'targets overlapped between sets')\n",
    "print(overlap_targs)"
   ]
  }
 ],
 "metadata": {
  "kernelspec": {
   "display_name": "Python 3",
   "language": "python",
   "name": "python3"
  },
  "language_info": {
   "codemirror_mode": {
    "name": "ipython",
    "version": 3
   },
   "file_extension": ".py",
   "mimetype": "text/x-python",
   "name": "python",
   "nbconvert_exporter": "python",
   "pygments_lexer": "ipython3",
   "version": "3.7.3"
  }
 },
 "nbformat": 4,
 "nbformat_minor": 2
}
