{
 "cells": [
  {
   "cell_type": "code",
   "execution_count": 1,
   "metadata": {},
   "outputs": [
    {
     "name": "stdout",
     "output_type": "stream",
     "text": [
      "              Roetzer log2  Lelandais log2 Rep1  Lelandais log2 Rep2  \\\n",
      "FEATURE_NAME                                                           \n",
      "CAGL0A00105g      0.067601            -0.026006             0.036205   \n",
      "CAGL0A00110g      0.366500            -0.026006             0.036205   \n",
      "CAGL0A00116g      0.067601            -0.026006             0.036205   \n",
      "CAGL0A00132g      0.067601            -0.026006             0.036205   \n",
      "CAGL0A00154g      0.067601            -0.026006             0.036205   \n",
      "CAGL0A00165g     -0.119234             0.217832            -0.029164   \n",
      "CAGL0A00187g      0.581269            -0.028898            -0.003969   \n",
      "\n",
      "              Kuo log2 Rep1  Kuo log2 Rep2  Kuo log2 Rep3  \\\n",
      "FEATURE_NAME                                                \n",
      "CAGL0A00105g       0.354450       0.661396       1.084942   \n",
      "CAGL0A00110g      -0.454108      -0.227552      -0.159453   \n",
      "CAGL0A00116g      -0.454108      -0.227552      -0.159453   \n",
      "CAGL0A00132g      -0.537156      -0.368734       0.090024   \n",
      "CAGL0A00154g       0.345481       0.357107       0.252134   \n",
      "CAGL0A00165g      -0.214597      -0.183370       0.047836   \n",
      "CAGL0A00187g       0.224895       0.216922       0.165432   \n",
      "\n",
      "              Lelandais log2 Chip-Seq Rep1  Lelandais log2 Chip-Seq Rep2  \\\n",
      "FEATURE_NAME                                                               \n",
      "CAGL0A00105g                      0.632862                     -0.207856   \n",
      "CAGL0A00110g                      0.467126                     -0.309328   \n",
      "CAGL0A00116g                      0.467126                     -0.309328   \n",
      "CAGL0A00132g                     -1.341037                     -3.273018   \n",
      "CAGL0A00154g                      0.219313                     -1.276840   \n",
      "CAGL0A00165g                      0.403633                      0.973033   \n",
      "CAGL0A00187g                      0.971431                      0.783606   \n",
      "\n",
      "              Prediction  \n",
      "FEATURE_NAME              \n",
      "CAGL0A00105g           0  \n",
      "CAGL0A00110g           2  \n",
      "CAGL0A00116g           2  \n",
      "CAGL0A00132g           8  \n",
      "CAGL0A00154g           6  \n",
      "CAGL0A00165g           1  \n",
      "CAGL0A00187g           1  \n"
     ]
    }
   ],
   "source": [
    "import pandas as pd\n",
    "\n",
    "# Read in data with cluster classification\n",
    "\n",
    "table = pd.read_csv('ClassifiedTable.txt', sep='\\t', header=(0), index_col=0)\n",
    "print(table.head(7))"
   ]
  },
  {
   "cell_type": "code",
   "execution_count": 2,
   "metadata": {},
   "outputs": [],
   "source": [
    "# Read in targets from previous analyses and save into a list\n",
    "\n",
    "targets = pd.read_csv('TargetGenes.txt', sep= '\\t')\n",
    "targets = list(targets.iloc[:, 0])"
   ]
  },
  {
   "cell_type": "markdown",
   "metadata": {},
   "source": [
    "Once the data for target genes is read in, we parse through each cluster and create a list for each cluster that contains: genes in the cluster, amount of overlapped genes (correct) between the cluster and the target set, and the amount of non overlapped genes (incorrect) between the cluster and target set."
   ]
  },
  {
   "cell_type": "code",
   "execution_count": 3,
   "metadata": {},
   "outputs": [],
   "source": [
    "def intersect(targets, genes):\n",
    "    intersect = []\n",
    "    for gene in genes:\n",
    "        if gene in targets:\n",
    "            intersect.append(gene)\n",
    "    return intersect"
   ]
  },
  {
   "cell_type": "code",
   "execution_count": 4,
   "metadata": {
    "scrolled": true
   },
   "outputs": [
    {
     "name": "stdout",
     "output_type": "stream",
     "text": [
      "         Overlap Genes  Non-Overlap Genes     Ratio                     Target\n",
      "Cluster                                                                       \n",
      "0                   14                589  0.023769              Very Unlikely\n",
      "1                    5               1027  0.004869              Very Unlikely\n",
      "2                    9               1233  0.007299              Very Unlikely\n",
      "3                   28                309  0.090615              Very Unlikely\n",
      "4                   13                447  0.029083              Very Unlikely\n",
      "5                   42                  8  5.250000            High Confidence\n",
      "6                    2                407  0.004914              Very Unlikely\n",
      "7                   25                442  0.056561              Very Unlikely\n",
      "8                    2                 40  0.050000         Possible Repressor\n",
      "9                   21                958  0.021921              Very Unlikely\n",
      "10                   6                  0  6.000000  Extremely High Confidence\n",
      "11                  39                 91  0.428571             Low Confidence\n"
     ]
    }
   ],
   "source": [
    "clusters = range(0,12)\n",
    "targetClasses = []\n",
    "for gene in targets:\n",
    "    targetClasses.append(table.loc[gene, 'Prediction'])\n",
    "\n",
    "ratios = []\n",
    "corrTable = []\n",
    "for cluster in clusters:\n",
    "    genesInCluster = table[table.loc[:, 'Prediction'] == cluster]\n",
    "    intersection = intersect(targets, list(genesInCluster.index))\n",
    "    correct = len(intersection)\n",
    "    incorrect = len(genesInCluster)- len(intersection)\n",
    "    if incorrect == 0:\n",
    "        ratio = correct\n",
    "    else:\n",
    "        ratio = correct/incorrect\n",
    "        \n",
    "    ratios.append(ratio)\n",
    "    corrTable.append([cluster, len(intersection), len(genesInCluster)- len(intersection)])\n",
    "    \n",
    "    \n",
    "corrTable = pd.DataFrame(corrTable)\n",
    "corrTable.columns = ['Cluster', 'Overlap Genes', 'Non-Overlap Genes']\n",
    "corrTable.index = corrTable.iloc[:, 0]\n",
    "corrTable = corrTable.iloc[:, 1:]\n",
    "corrTable.loc[:, 'Ratio'] = ratios\n",
    "\n",
    "corrTable['Target'] = 'Very Unlikely'\n",
    "corrTable.loc[10, 'Target'] = 'Extremely High Confidence'\n",
    "corrTable.loc[11, 'Target'] = 'Low Confidence'\n",
    "corrTable.loc[5, 'Target'] = 'High Confidence'\n",
    "corrTable.loc[8, 'Target'] = 'Possible Repressor'\n",
    "print(corrTable)\n"
   ]
  },
  {
   "cell_type": "markdown",
   "metadata": {},
   "source": [
    "Clusters 5 and 10 appear to have a high ratio of correct/incorrect. In order to understand what the data in each cluster represents, its useful to manually observe it."
   ]
  },
  {
   "cell_type": "code",
   "execution_count": 5,
   "metadata": {},
   "outputs": [],
   "source": [
    "# print(table[table.loc[:, 'Prediction'] == 10])"
   ]
  },
  {
   "cell_type": "code",
   "execution_count": 6,
   "metadata": {},
   "outputs": [],
   "source": [
    "# print(table[table.loc[:, 'Prediction'] == 5])"
   ]
  },
  {
   "cell_type": "markdown",
   "metadata": {},
   "source": [
    "Cluster 10 appears to be strong targets of Yap1 and cluster 5 appears to be likely targets of Yap1. In order to make sure there aren't false positives, we can directly observe the 8 genes that were not a part of the overlap set to see if any new discovery was made from this analysis which wasn't found in earlier analyses."
   ]
  },
  {
   "cell_type": "code",
   "execution_count": 7,
   "metadata": {},
   "outputs": [
    {
     "name": "stdout",
     "output_type": "stream",
     "text": [
      "              Roetzer log2  Lelandais log2 Rep1  Lelandais log2 Rep2  \\\n",
      "FEATURE_NAME                                                           \n",
      "CAGL0D05478g      0.054514            -0.244361             0.120199   \n",
      "CAGL0G03223g      0.805756             0.133721            -0.405787   \n",
      "CAGL0G09405r      0.067601            -0.026006             0.036205   \n",
      "CAGL0K10879g      0.067601            -0.026006             0.036205   \n",
      "CAGL0L13365r      0.067601            -0.026006             0.036205   \n",
      "CAGL0L13376g      0.067601            -0.026006             0.036205   \n",
      "CAGL0L13387r      0.067601            -0.026006             0.036205   \n",
      "CAGL0L13392g      0.067601            -0.026006             0.036205   \n",
      "\n",
      "              Kuo log2 Rep1  Kuo log2 Rep2  Kuo log2 Rep3  \\\n",
      "FEATURE_NAME                                                \n",
      "CAGL0D05478g       2.801382       2.647244       2.196127   \n",
      "CAGL0G03223g       0.096668       0.191343       0.150483   \n",
      "CAGL0G09405r       1.690861       1.471946       0.771020   \n",
      "CAGL0K10879g       1.690197       1.193569       0.798924   \n",
      "CAGL0L13365r       0.432614       0.394652       0.291795   \n",
      "CAGL0L13376g       0.432614       0.394652       0.291795   \n",
      "CAGL0L13387r       0.432614       0.394652       0.291795   \n",
      "CAGL0L13392g       0.432614       0.394652       0.291795   \n",
      "\n",
      "              Lelandais log2 Chip-Seq Rep1  Lelandais log2 Chip-Seq Rep2  \\\n",
      "FEATURE_NAME                                                               \n",
      "CAGL0D05478g                      5.170445                      5.053493   \n",
      "CAGL0G03223g                      0.692491                      5.643856   \n",
      "CAGL0G09405r                      2.717632                      2.748868   \n",
      "CAGL0K10879g                      3.462909                      5.450700   \n",
      "CAGL0L13365r                      3.698238                      3.481202   \n",
      "CAGL0L13376g                      3.786435                      3.451197   \n",
      "CAGL0L13387r                      3.867451                      3.835688   \n",
      "CAGL0L13392g                      3.867451                      3.835688   \n",
      "\n",
      "              Prediction  \n",
      "FEATURE_NAME              \n",
      "CAGL0D05478g           5  \n",
      "CAGL0G03223g           5  \n",
      "CAGL0G09405r           5  \n",
      "CAGL0K10879g           5  \n",
      "CAGL0L13365r           5  \n",
      "CAGL0L13376g           5  \n",
      "CAGL0L13387r           5  \n",
      "CAGL0L13392g           5  \n"
     ]
    }
   ],
   "source": [
    "cluster5 = table[table.loc[:, 'Prediction'] == 5]\n",
    "newGenes = [gene for gene in list(cluster5.index) if not gene in targets]\n",
    "# print(newGenes)\n",
    "print(table.loc[newGenes,:])"
   ]
  },
  {
   "cell_type": "code",
   "execution_count": 8,
   "metadata": {
    "scrolled": true
   },
   "outputs": [
    {
     "name": "stdout",
     "output_type": "stream",
     "text": [
      "              Roetzer log2  Lelandais log2 Rep1  Lelandais log2 Rep2  \\\n",
      "FEATURE_NAME                                                           \n",
      "CAGL0A00132g      0.067601            -0.026006             0.036205   \n",
      "CAGL0B00110g      0.181877            -0.026006             0.036205   \n",
      "CAGL0B00116g      0.067601            -0.026006             0.036205   \n",
      "CAGL0B03245g      0.025501             0.116651            -0.083314   \n",
      "CAGL0B04895g      0.217062             0.016023            -0.726815   \n",
      "CAGL0C00231g      0.067601             0.122012            -0.045777   \n",
      "CAGL0C05621g      0.164058            -0.026006             0.036205   \n",
      "CAGL0D02288g      0.067601             0.149435            -0.132811   \n",
      "CAGL0F05005g      0.772439             0.376161             0.051762   \n",
      "CAGL0F09075g      0.503680             0.152608             0.169236   \n",
      "CAGL0F09273g     -0.597578            -0.026006             0.036205   \n",
      "CAGL0G02893g     -0.110275            -0.048243             0.000533   \n",
      "CAGL0G05984g     -0.700757            -0.198189             0.529954   \n",
      "CAGL0G06292g     -0.319340            -0.170983            -0.398995   \n",
      "CAGL0H00132g     -0.249063            -0.026006             0.036205   \n",
      "CAGL0H00143g      0.067601            -0.026006             0.036205   \n",
      "CAGL0H02167g      0.264419            -0.000066            -0.063261   \n",
      "CAGL0H03135g      0.067601            -0.838400             0.173230   \n",
      "CAGL0H07667g     -0.066257             0.707575            -0.028399   \n",
      "CAGL0I11011g      0.067601            -0.026006             0.036205   \n",
      "CAGL0J02288g      0.032011             0.269185             0.129990   \n",
      "CAGL0J05159g      0.067601             0.042994             0.537837   \n",
      "CAGL0J08822g     -0.033732             0.118201            -0.238657   \n",
      "CAGL0K00110g      0.068576             1.401432             1.008031   \n",
      "CAGL0K00121g      0.067601            -0.026006             0.036205   \n",
      "CAGL0K12540g      0.067601             0.000596            -0.089246   \n",
      "CAGL0L00297g     -0.034995             0.257985            -0.114301   \n",
      "CAGL0L00627g      0.492527             0.246032            -0.155489   \n",
      "CAGL0L01771g      0.080741             0.685251             0.930018   \n",
      "CAGL0L05874g      0.198114             0.250031            -0.171451   \n",
      "CAGL0M00110g      1.248983            -0.026006             0.036205   \n",
      "CAGL0M01254g      0.172456             0.091085            -0.050560   \n",
      "CAGL0M04829g      1.388694             0.428791             0.168628   \n",
      "CAGL0M04895g     -0.104313             0.016853            -0.312120   \n",
      "CAGL0M04939g     -0.451181             0.070790            -0.327581   \n",
      "CAGL0M13871g      0.645439             0.368350            -0.044791   \n",
      "CaglfMt16         0.067601            -0.026006             0.036205   \n",
      "CaglfMt17         0.067601            -0.026006             0.036205   \n",
      "CaglfMt18         0.067601            -0.026006             0.036205   \n",
      "CaglfMt21         0.067601            -0.026006             0.036205   \n",
      "CaglfMt22         0.067601            -0.026006             0.036205   \n",
      "CaglfMt23         0.067601            -0.026006             0.036205   \n",
      "\n",
      "              Kuo log2 Rep1  Kuo log2 Rep2  Kuo log2 Rep3  \\\n",
      "FEATURE_NAME                                                \n",
      "CAGL0A00132g      -0.537156      -0.368734       0.090024   \n",
      "CAGL0B00110g       1.158689       1.001229       0.589974   \n",
      "CAGL0B00116g       1.158689       1.001229       0.589974   \n",
      "CAGL0B03245g      -0.352789      -0.319569      -0.239511   \n",
      "CAGL0B04895g       0.381357       0.351128       0.156131   \n",
      "CAGL0C00231g       0.472378       0.673687       0.064445   \n",
      "CAGL0C05621g       1.197223       0.790287       0.403614   \n",
      "CAGL0D02288g      -0.155798      -0.284357      -0.263761   \n",
      "CAGL0F05005g      -0.434840      -0.359765      -0.041524   \n",
      "CAGL0F09075g       0.126565       0.337508       0.106966   \n",
      "CAGL0F09273g       0.432614       0.394652       0.291795   \n",
      "CAGL0G02893g       1.090257       1.086603       0.198319   \n",
      "CAGL0G05984g       0.524200       0.192007       0.081387   \n",
      "CAGL0G06292g      -0.096004      -0.114939       0.087035   \n",
      "CAGL0H00132g      -0.048500      -0.084377       0.115271   \n",
      "CAGL0H00143g      -0.048500      -0.084377       0.115271   \n",
      "CAGL0H02167g      -0.222569      -0.031226       0.477029   \n",
      "CAGL0H03135g      -0.167425      -0.275720       0.171744   \n",
      "CAGL0H07667g       0.064778      -0.109956      -0.012623   \n",
      "CAGL0I11011g       0.432614       0.394652       0.291795   \n",
      "CAGL0J02288g       0.307278       0.483341       0.588646   \n",
      "CAGL0J05159g       0.052486      -0.108295       0.146165   \n",
      "CAGL0J08822g       0.138857       0.335847       0.289672   \n",
      "CAGL0K00110g       1.018835       0.774009       0.572036   \n",
      "CAGL0K00121g       1.994486       2.059595       0.572036   \n",
      "CAGL0K12540g      -0.087699      -0.345813      -0.105970   \n",
      "CAGL0L00297g      -0.266751      -0.030894       0.120586   \n",
      "CAGL0L00627g       0.132877       0.283028       0.246819   \n",
      "CAGL0L01771g       2.406073       2.374846       0.829818   \n",
      "CAGL0L05874g      -0.134870       0.136863       0.249477   \n",
      "CAGL0M00110g      -0.115603       0.000997       0.050825   \n",
      "CAGL0M01254g      -0.338837      -0.112946       0.006976   \n",
      "CAGL0M04829g       0.037538      -0.028901      -0.232867   \n",
      "CAGL0M04895g       0.635153       0.396638       0.101651   \n",
      "CAGL0M04939g       0.039863      -0.183703       0.034216   \n",
      "CAGL0M13871g       0.380693       0.306614       0.111949   \n",
      "CaglfMt16          0.432614       0.394652       0.291795   \n",
      "CaglfMt17          0.432614       0.394652       0.291795   \n",
      "CaglfMt18          0.432614       0.394652       0.291795   \n",
      "CaglfMt21          0.432614       0.394652       0.291795   \n",
      "CaglfMt22          0.432614       0.394652       0.291795   \n",
      "CaglfMt23          0.432614       0.394652       0.291795   \n",
      "\n",
      "              Lelandais log2 Chip-Seq Rep1  Lelandais log2 Chip-Seq Rep2  \\\n",
      "FEATURE_NAME                                                               \n",
      "CAGL0A00132g                     -1.341037                     -3.273018   \n",
      "CAGL0B00110g                     -0.866733                     -3.459432   \n",
      "CAGL0B00116g                     -0.866733                     -3.459432   \n",
      "CAGL0B03245g                     -0.286881                     -6.845490   \n",
      "CAGL0B04895g                      0.870717                     -3.514573   \n",
      "CAGL0C00231g                     -0.069263                     -5.569856   \n",
      "CAGL0C05621g                     -2.353637                     -5.781360   \n",
      "CAGL0D02288g                     -0.308122                     -6.426265   \n",
      "CAGL0F05005g                      0.145050                     -4.741467   \n",
      "CAGL0F09075g                     -0.078003                     -3.584963   \n",
      "CAGL0F09273g                     -0.973033                     -5.426265   \n",
      "CAGL0G02893g                      0.428334                     -3.078003   \n",
      "CAGL0G05984g                     -0.530515                     -4.017922   \n",
      "CAGL0G06292g                     -0.762501                     -3.514573   \n",
      "CAGL0H00132g                     -0.893085                     -5.044394   \n",
      "CAGL0H00143g                     -0.893085                     -5.044394   \n",
      "CAGL0H02167g                     -0.134301                     -6.754888   \n",
      "CAGL0H03135g                     -0.078855                     -2.918863   \n",
      "CAGL0H07667g                     -0.341037                     -6.339850   \n",
      "CAGL0I11011g                     -0.490986                     -5.087463   \n",
      "CAGL0J02288g                     -1.428843                     -3.000000   \n",
      "CAGL0J05159g                      0.337035                     -6.022368   \n",
      "CAGL0J08822g                     -1.283793                     -4.408392   \n",
      "CAGL0K00110g                      2.807355                     -6.159871   \n",
      "CAGL0K00121g                     -0.912537                     -5.426265   \n",
      "CAGL0K12540g                      0.190684                     -4.686501   \n",
      "CAGL0L00297g                      0.599462                     -4.754888   \n",
      "CAGL0L00627g                      0.371969                     -4.104337   \n",
      "CAGL0L01771g                      0.481127                     -3.000000   \n",
      "CAGL0L05874g                      0.508464                     -6.087463   \n",
      "CAGL0M00110g                      0.277985                     -6.321928   \n",
      "CAGL0M01254g                     -0.054448                     -3.502500   \n",
      "CAGL0M04829g                     -1.442943                     -5.169925   \n",
      "CAGL0M04895g                      1.086509                     -3.629357   \n",
      "CAGL0M04939g                     -0.084889                     -4.857981   \n",
      "CAGL0M13871g                     -1.623852                     -6.768184   \n",
      "CaglfMt16                         0.351985                     -6.247928   \n",
      "CaglfMt17                         1.047306                     -4.643856   \n",
      "CaglfMt18                         0.131245                     -4.392317   \n",
      "CaglfMt21                        -1.454566                     -3.832890   \n",
      "CaglfMt22                        -1.454566                     -3.832890   \n",
      "CaglfMt23                        -1.454566                     -3.832890   \n",
      "\n",
      "              Prediction  \n",
      "FEATURE_NAME              \n",
      "CAGL0A00132g           8  \n",
      "CAGL0B00110g           8  \n",
      "CAGL0B00116g           8  \n",
      "CAGL0B03245g           8  \n",
      "CAGL0B04895g           8  \n",
      "CAGL0C00231g           8  \n",
      "CAGL0C05621g           8  \n",
      "CAGL0D02288g           8  \n",
      "CAGL0F05005g           8  \n",
      "CAGL0F09075g           8  \n",
      "CAGL0F09273g           8  \n",
      "CAGL0G02893g           8  \n",
      "CAGL0G05984g           8  \n",
      "CAGL0G06292g           8  \n",
      "CAGL0H00132g           8  \n",
      "CAGL0H00143g           8  \n",
      "CAGL0H02167g           8  \n",
      "CAGL0H03135g           8  \n",
      "CAGL0H07667g           8  \n",
      "CAGL0I11011g           8  \n",
      "CAGL0J02288g           8  \n",
      "CAGL0J05159g           8  \n",
      "CAGL0J08822g           8  \n",
      "CAGL0K00110g           8  \n",
      "CAGL0K00121g           8  \n",
      "CAGL0K12540g           8  \n",
      "CAGL0L00297g           8  \n",
      "CAGL0L00627g           8  \n",
      "CAGL0L01771g           8  \n",
      "CAGL0L05874g           8  \n",
      "CAGL0M00110g           8  \n",
      "CAGL0M01254g           8  \n",
      "CAGL0M04829g           8  \n",
      "CAGL0M04895g           8  \n",
      "CAGL0M04939g           8  \n",
      "CAGL0M13871g           8  \n",
      "CaglfMt16              8  \n",
      "CaglfMt17              8  \n",
      "CaglfMt18              8  \n",
      "CaglfMt21              8  \n",
      "CaglfMt22              8  \n",
      "CaglfMt23              8  \n"
     ]
    }
   ],
   "source": [
    "# Possible repressor genes\n",
    "print(table[table.loc[:, 'Prediction'] == 8])"
   ]
  },
  {
   "cell_type": "markdown",
   "metadata": {},
   "source": [
    "Get the gene names from all the clusters that need GO annotations collected. This list will be used in \"Get Annotations.ipynb\" to web scrape from candidagenome.org"
   ]
  },
  {
   "cell_type": "code",
   "execution_count": 24,
   "metadata": {},
   "outputs": [
    {
     "name": "stdout",
     "output_type": "stream",
     "text": [
      "CAGL0M04213g\n"
     ]
    }
   ],
   "source": [
    "# Pickle is just an easier library to use for importing/exporting data structures instead\n",
    "# of constantly saving them as tab-separated .txt files and using pandas\n",
    "import _pickle as pickle\n",
    "\n",
    "clustersOfInterest = [5, 8, 10, 11]\n",
    "\n",
    "geneList = []\n",
    "for cluster in clustersOfInterest:\n",
    "    geneList.extend(list(table[table.loc[:, 'Prediction'] == cluster].index))\n",
    "\n",
    "# Also include target list from previous analyses for comparitive purposes\n",
    "geneList.extend(targets)\n",
    "\n",
    "# print(len(geneList))\n",
    "# print(len(set(geneList)))\n",
    "\n",
    "# Remove duplicate genes\n",
    "geneList = set(geneList)\n",
    "\n",
    "print(list(geneList)[247])\n",
    "\n",
    "pickleOut = open('GOgenes.pickle', 'wb')\n",
    "pickle.dump(geneList, pickleOut)\n",
    "pickleOut.close()\n"
   ]
  }
 ],
 "metadata": {
  "kernelspec": {
   "display_name": "Python 3",
   "language": "python",
   "name": "python3"
  },
  "language_info": {
   "codemirror_mode": {
    "name": "ipython",
    "version": 3
   },
   "file_extension": ".py",
   "mimetype": "text/x-python",
   "name": "python",
   "nbconvert_exporter": "python",
   "pygments_lexer": "ipython3",
   "version": "3.6.8"
  },
  "varInspector": {
   "cols": {
    "lenName": 16,
    "lenType": 16,
    "lenVar": 40
   },
   "kernels_config": {
    "python": {
     "delete_cmd_postfix": "",
     "delete_cmd_prefix": "del ",
     "library": "var_list.py",
     "varRefreshCmd": "print(var_dic_list())"
    },
    "r": {
     "delete_cmd_postfix": ") ",
     "delete_cmd_prefix": "rm(",
     "library": "var_list.r",
     "varRefreshCmd": "cat(var_dic_list()) "
    }
   },
   "types_to_exclude": [
    "module",
    "function",
    "builtin_function_or_method",
    "instance",
    "_Feature"
   ],
   "window_display": false
  }
 },
 "nbformat": 4,
 "nbformat_minor": 2
}
