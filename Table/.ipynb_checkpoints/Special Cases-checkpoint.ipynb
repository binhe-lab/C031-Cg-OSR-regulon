{
 "cells": [
  {
   "cell_type": "code",
   "execution_count": 1,
   "metadata": {},
   "outputs": [
    {
     "name": "stdout",
     "output_type": "stream",
     "text": [
      "CAGL0C01705g\n",
      "CAGL0H04631g\n",
      "CAGL0I01166g\n",
      "CAGL0K06259g\n",
      "CAGL0K10868g\n",
      "CAGL0L05258g\n"
     ]
    }
   ],
   "source": [
    "import pandas as pd\n",
    "\n",
    "# Read in data with cluster classification\n",
    "\n",
    "table = pd.read_csv('ClassifiedTable.txt', sep='\\t', header=(0), index_col=0)\n",
    "\n",
    "clust5 = table[table.loc[:, 'Prediction'] == 5]\n",
    "clust5 = list(clust5.index)\n",
    "clust11 = table[table.loc[:, 'Prediction'] == 11]\n",
    "clust11 = list(clust11.index)\n",
    "targets = pd.read_csv('TargetGenes.txt', sep= '\\t')\n",
    "targets = list(targets.iloc[:, 0])\n",
    "\n",
    "nonOverlap5 = [gene for gene in clust5 if gene not in targets]\n",
    "nonOverlap11 = [gene for gene in clust11 if gene not in targets]\n",
    "\n",
    "# for gene in table.loc[nonOverlap11, :].index:\n",
    "#     print(gene)\n",
    "\n",
    "for gene in list(table[table.loc[:, 'Prediction'] == 10].index):\n",
    "    print(gene)"
   ]
  },
  {
   "cell_type": "code",
   "execution_count": 2,
   "metadata": {},
   "outputs": [],
   "source": [
    "import _pickle as pickle\n",
    "import os\n",
    "\n",
    "extremelyHighConfidence = ['CAGL0C01705g',\n",
    "'CAGL0H04631g',\n",
    "'CAGL0I01166g',\n",
    "'CAGL0K06259g',\n",
    "'CAGL0K10868g',\n",
    "'CAGL0L05258g']\n",
    "highConfidence = ['CAGL0B01419g',\n",
    "'CAGL0B02607g',\n",
    "'CAGL0B03069g',\n",
    "'CAGL0C01727g',\n",
    "'CAGL0D01496g',\n",
    "'CAGL0D05434g',\n",
    "'CAGL0D06138g',\n",
    "'CAGL0E05170g',\n",
    "'CAGL0F01793g',\n",
    "'CAGL0F07359g',\n",
    "'CAGL0F07513g',\n",
    "'CAGL0F09097g',\n",
    "'CAGL0G06182g',\n",
    "'CAGL0H00704g',\n",
    "'CAGL0H01375g',\n",
    "'CAGL0H02739g',\n",
    "'CAGL0H04653g',\n",
    "'CAGL0H05951g',\n",
    "'CAGL0H06017g',\n",
    "'CAGL0H10142g',\n",
    "'CAGL0I00726g',\n",
    "'CAGL0I00748g',\n",
    "'CAGL0I04884g',\n",
    "'CAGL0J07612g',\n",
    "'CAGL0J09680g',\n",
    "'CAGL0K00803g',\n",
    "'CAGL0K01727g',\n",
    "'CAGL0K03531g',\n",
    "'CAGL0K03553g',\n",
    "'CAGL0K08162g',\n",
    "'CAGL0K08184g',\n",
    "'CAGL0K09350g',\n",
    "'CAGL0K11858g',\n",
    "'CAGL0K11880g',\n",
    "'CAGL0L04664g',\n",
    "'CAGL0L05280g',\n",
    "'CAGL0L05742g',\n",
    "'CAGL0M02607g',\n",
    "'CAGL0M02629g',\n",
    "'CAGL0M05819g',\n",
    "'CAGL0M11682g',\n",
    "'CAGL0M11704g']\n",
    "lowConfidenceTargets = ['CAGL0E05390g',\n",
    "'CAGL0F04983g',\n",
    "'CAGL0F06611g',\n",
    "'CAGL0F08833g',\n",
    "'CAGL0G02079g',\n",
    "'CAGL0G05467g',\n",
    "'CAGL0G06512r',\n",
    "'CAGL0I09108g',\n",
    "'CAGL0J10758g',\n",
    "'CAGL0K02739g',\n",
    "'CAGL0K05813g',\n",
    "'CAGL0K11836g',\n",
    "'CAGL0L02519g',\n",
    "'CAGL0L08756g',\n",
    "'CAGL0M07700g',\n",
    "'CAGL0M08470r']\n",
    "lowConfidenceAmbiguous = ['CAGL0I01870g',\n",
    "'CAGL0I03432g',\n",
    "'CAGL0J07568g',\n",
    "'CAGL0L05720g']\n",
    "\n"
   ]
  },
  {
   "cell_type": "code",
   "execution_count": 7,
   "metadata": {},
   "outputs": [
    {
     "name": "stdout",
     "output_type": "stream",
     "text": [
      "['CAGL0I01870g', 'CAGL0I03432g', 'CAGL0J07568g', 'CAGL0L05720g']\n"
     ]
    }
   ],
   "source": [
    "# Command to add GO annotations to folders\n",
    "\n",
    "pickleIn = open('GOanno.pickle', 'rb')\n",
    "anno = pickle.load(pickleIn)\n",
    "\n",
    "root = 'C:/Users/Zoheb/Desktop/HE LAB/rdss/High Confidence Targets/'\n",
    "\n",
    "for gene in highConfidence:\n",
    "    temproot = root + gene + '/GOannotations.txt'\n",
    "    with open(temproot, 'w') as file:\n",
    "        for word in anno[gene]:\n",
    "            file.write(word + '\\n')\n",
    "\n",
    "\n",
    "print(lowConfidenceAmbiguous)"
   ]
  },
  {
   "cell_type": "code",
   "execution_count": 6,
   "metadata": {},
   "outputs": [
    {
     "name": "stdout",
     "output_type": "stream",
     "text": [
      "C:/Users/Zoheb/Desktop/HE LAB/rdss/High Confidence Targets/CAGL0B01419g\n",
      "C:/Users/Zoheb/Desktop/HE LAB/rdss/High Confidence Targets/CAGL0B02607g\n",
      "C:/Users/Zoheb/Desktop/HE LAB/rdss/High Confidence Targets/CAGL0B03069g\n",
      "C:/Users/Zoheb/Desktop/HE LAB/rdss/High Confidence Targets/CAGL0C01727g\n",
      "C:/Users/Zoheb/Desktop/HE LAB/rdss/High Confidence Targets/CAGL0D01496g\n",
      "C:/Users/Zoheb/Desktop/HE LAB/rdss/High Confidence Targets/CAGL0D05434g\n",
      "C:/Users/Zoheb/Desktop/HE LAB/rdss/High Confidence Targets/CAGL0D06138g\n",
      "C:/Users/Zoheb/Desktop/HE LAB/rdss/High Confidence Targets/CAGL0E05170g\n",
      "C:/Users/Zoheb/Desktop/HE LAB/rdss/High Confidence Targets/CAGL0F01793g\n",
      "C:/Users/Zoheb/Desktop/HE LAB/rdss/High Confidence Targets/CAGL0F07359g\n",
      "C:/Users/Zoheb/Desktop/HE LAB/rdss/High Confidence Targets/CAGL0F07513g\n",
      "C:/Users/Zoheb/Desktop/HE LAB/rdss/High Confidence Targets/CAGL0F09097g\n",
      "C:/Users/Zoheb/Desktop/HE LAB/rdss/High Confidence Targets/CAGL0G06182g\n",
      "C:/Users/Zoheb/Desktop/HE LAB/rdss/High Confidence Targets/CAGL0H00704g\n",
      "C:/Users/Zoheb/Desktop/HE LAB/rdss/High Confidence Targets/CAGL0H01375g\n",
      "C:/Users/Zoheb/Desktop/HE LAB/rdss/High Confidence Targets/CAGL0H02739g\n",
      "C:/Users/Zoheb/Desktop/HE LAB/rdss/High Confidence Targets/CAGL0H04653g\n",
      "C:/Users/Zoheb/Desktop/HE LAB/rdss/High Confidence Targets/CAGL0H05951g\n",
      "C:/Users/Zoheb/Desktop/HE LAB/rdss/High Confidence Targets/CAGL0H06017g\n",
      "C:/Users/Zoheb/Desktop/HE LAB/rdss/High Confidence Targets/CAGL0H10142g\n",
      "C:/Users/Zoheb/Desktop/HE LAB/rdss/High Confidence Targets/CAGL0I00726g\n",
      "C:/Users/Zoheb/Desktop/HE LAB/rdss/High Confidence Targets/CAGL0I00748g\n",
      "C:/Users/Zoheb/Desktop/HE LAB/rdss/High Confidence Targets/CAGL0I04884g\n",
      "C:/Users/Zoheb/Desktop/HE LAB/rdss/High Confidence Targets/CAGL0J07612g\n",
      "C:/Users/Zoheb/Desktop/HE LAB/rdss/High Confidence Targets/CAGL0J09680g\n",
      "C:/Users/Zoheb/Desktop/HE LAB/rdss/High Confidence Targets/CAGL0K00803g\n",
      "C:/Users/Zoheb/Desktop/HE LAB/rdss/High Confidence Targets/CAGL0K01727g\n",
      "C:/Users/Zoheb/Desktop/HE LAB/rdss/High Confidence Targets/CAGL0K03531g\n",
      "C:/Users/Zoheb/Desktop/HE LAB/rdss/High Confidence Targets/CAGL0K03553g\n",
      "C:/Users/Zoheb/Desktop/HE LAB/rdss/High Confidence Targets/CAGL0K08162g\n",
      "C:/Users/Zoheb/Desktop/HE LAB/rdss/High Confidence Targets/CAGL0K08184g\n",
      "C:/Users/Zoheb/Desktop/HE LAB/rdss/High Confidence Targets/CAGL0K09350g\n",
      "C:/Users/Zoheb/Desktop/HE LAB/rdss/High Confidence Targets/CAGL0K11858g\n",
      "C:/Users/Zoheb/Desktop/HE LAB/rdss/High Confidence Targets/CAGL0K11880g\n",
      "C:/Users/Zoheb/Desktop/HE LAB/rdss/High Confidence Targets/CAGL0L04664g\n",
      "C:/Users/Zoheb/Desktop/HE LAB/rdss/High Confidence Targets/CAGL0L05280g\n",
      "C:/Users/Zoheb/Desktop/HE LAB/rdss/High Confidence Targets/CAGL0L05742g\n",
      "C:/Users/Zoheb/Desktop/HE LAB/rdss/High Confidence Targets/CAGL0M02607g\n",
      "C:/Users/Zoheb/Desktop/HE LAB/rdss/High Confidence Targets/CAGL0M02629g\n",
      "C:/Users/Zoheb/Desktop/HE LAB/rdss/High Confidence Targets/CAGL0M05819g\n",
      "C:/Users/Zoheb/Desktop/HE LAB/rdss/High Confidence Targets/CAGL0M11682g\n",
      "C:/Users/Zoheb/Desktop/HE LAB/rdss/High Confidence Targets/CAGL0M11704g\n"
     ]
    }
   ],
   "source": [
    "# Command to build folders\n",
    "import os\n",
    "\n",
    "root = 'C:/Users/Zoheb/Desktop/HE LAB/rdss/High Confidence Targets/'\n",
    "\n",
    "for gene in highConfidence:\n",
    "    os.mkdir(root + gene)\n",
    "    print(root + gene)"
   ]
  }
 ],
 "metadata": {
  "kernelspec": {
   "display_name": "Python 3",
   "language": "python",
   "name": "python3"
  },
  "language_info": {
   "codemirror_mode": {
    "name": "ipython",
    "version": 3
   },
   "file_extension": ".py",
   "mimetype": "text/x-python",
   "name": "python",
   "nbconvert_exporter": "python",
   "pygments_lexer": "ipython3",
   "version": "3.6.8"
  },
  "varInspector": {
   "cols": {
    "lenName": 16,
    "lenType": 16,
    "lenVar": 40
   },
   "kernels_config": {
    "python": {
     "delete_cmd_postfix": "",
     "delete_cmd_prefix": "del ",
     "library": "var_list.py",
     "varRefreshCmd": "print(var_dic_list())"
    },
    "r": {
     "delete_cmd_postfix": ") ",
     "delete_cmd_prefix": "rm(",
     "library": "var_list.r",
     "varRefreshCmd": "cat(var_dic_list()) "
    }
   },
   "types_to_exclude": [
    "module",
    "function",
    "builtin_function_or_method",
    "instance",
    "_Feature"
   ],
   "window_display": false
  }
 },
 "nbformat": 4,
 "nbformat_minor": 2
}
