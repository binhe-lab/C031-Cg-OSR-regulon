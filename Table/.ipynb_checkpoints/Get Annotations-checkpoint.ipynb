{
 "cells": [
  {
   "cell_type": "markdown",
   "metadata": {},
   "source": [
    "This file gets the candidagenome.org GO annotations for the genes in important clusters.\n",
    "\n",
    "In the future, if web scraping is needed to get annotations from C.glabrata or any other species on the candidagenome.org website, this same code can be used with the getURL() function modified as needed. (if the species is still C.glabrata it doesn't need to be changed). To avoid having to run all of the cells again, the serialized object is imported below."
   ]
  },
  {
   "cell_type": "code",
   "execution_count": 1,
   "metadata": {},
   "outputs": [],
   "source": [
    "import _pickle as pickle\n",
    "\n",
    "pickleIn = open('GOgenes.pickle', 'rb')\n",
    "genes = pickle.load(pickleIn)\n",
    "genes = list(genes)"
   ]
  },
  {
   "cell_type": "code",
   "execution_count": 2,
   "metadata": {},
   "outputs": [],
   "source": [
    "# These are some commonly used web-scraping libraries\n",
    "import requests\n",
    "from bs4 import BeautifulSoup\n",
    "from time import sleep\n",
    "import random\n",
    "import re\n",
    "from tqdm import tqdm"
   ]
  },
  {
   "cell_type": "code",
   "execution_count": 3,
   "metadata": {},
   "outputs": [],
   "source": [
    "# This function generates the URL for each gene to get its genepage on candidagenome.org\n",
    "def getURL(gene):\n",
    "    url = 'http://www.candidagenome.org/cgi-bin/locus.pl?locus=' + gene + '&organism=C_glabrata_CBS138'\n",
    "    # Don't delete the sleep function below, doing so might crash the website!\n",
    "    sleep(random.uniform(1,3))\n",
    "    return url"
   ]
  },
  {
   "cell_type": "code",
   "execution_count": 4,
   "metadata": {},
   "outputs": [],
   "source": [
    "# This function takes a gene as input and returns a list of its annotations from candidagenome.org\n",
    "def getAnno(gene):\n",
    "    url = getURL(gene)\n",
    "\n",
    "    try:\n",
    "        # This parses the html to get the annotation information associated with the 'a' tag\n",
    "        genePage = requests.get(url)\n",
    "        soup = BeautifulSoup(genePage.text, 'html.parser')\n",
    "        links = list(soup.find_all('a'))\n",
    "        \n",
    "        # Store all the annotations for a gene into a list\n",
    "        annotations = []\n",
    "        for link in links:\n",
    "            link = str(link)\n",
    "            if 'http://www.candidagenome.org/cgi-bin/GO/go.pl' in link:\n",
    "                goTermUnfiltered = re.search(r'>.+</a>', link)\n",
    "                goTerm = goTermUnfiltered.group(0)[1:-4]\n",
    "                if goTerm == 'molecular_function':\n",
    "                    annotations.append('unknown molecular function')\n",
    "                elif goTerm == 'biological_process':\n",
    "                    annotations.append('unknown biological process')\n",
    "                elif goTerm == 'cellular_component':\n",
    "                    annotations.append('unknown cellular component')\n",
    "                else:\n",
    "                    annotations.append(goTerm)\n",
    "        return annotations\n",
    "    \n",
    "    # This deals with exceptions if the page doesn't load, or if a gene doesn't exist on the website, etc.\n",
    "    except:\n",
    "        return []"
   ]
  },
  {
   "cell_type": "code",
   "execution_count": 11,
   "metadata": {},
   "outputs": [
    {
     "name": "stderr",
     "output_type": "stream",
     "text": [
      "100%|██████████████████████████████████████████████████████████████████████████████| 345/345 [22:03<00:00,  3.28s/it]\n"
     ]
    }
   ],
   "source": [
    "# Collect data and gather info\n",
    "geneAnno = dict()\n",
    "for gene in tqdm(genes):\n",
    "    geneAnno[gene] = getAnno(gene)"
   ]
  },
  {
   "cell_type": "code",
   "execution_count": 12,
   "metadata": {},
   "outputs": [],
   "source": [
    "pickleOut = open('GOanno.pickle', 'wb')\n",
    "pickle.dump(geneAnno, pickleOut)"
   ]
  },
  {
   "cell_type": "code",
   "execution_count": null,
   "metadata": {},
   "outputs": [],
   "source": [
    "# Run this to avoid running everything above this point\n",
    "pickleIn = open('GOanno.pickle', 'rb')\n",
    "geneAnno = pickle.load(pickleIn)"
   ]
  },
  {
   "cell_type": "code",
   "execution_count": 22,
   "metadata": {},
   "outputs": [
    {
     "name": "stdout",
     "output_type": "stream",
     "text": [
      "CAGL0M10461s\n",
      "CAGL0H00132g\n",
      "CAGL0E00209g\n",
      "CAGL0I10513g\n",
      "CAGL0H00715g\n",
      "Error Gene Count: 5\n"
     ]
    }
   ],
   "source": [
    "# Check how many genes caused an error\n",
    "count = 0\n",
    "for gene in geneAnno.keys():\n",
    "    if len(geneAnno[gene]) == 0:\n",
    "        print(gene)\n",
    "        count += 1\n",
    "        \n",
    "print('Error Gene Count:', count)"
   ]
  },
  {
   "cell_type": "markdown",
   "metadata": {},
   "source": [
    "Upon further inspection of the genes which ran into errors, the website didn't have a GO section for these genes, so the script wasn't the issue.\n",
    "Below is a test of the different clusters/groups of interest and their top 5 annotations."
   ]
  },
  {
   "cell_type": "code",
   "execution_count": 16,
   "metadata": {},
   "outputs": [],
   "source": [
    "import pandas as pd\n",
    "\n",
    "table = pd.read_csv('ClassifiedTable.txt', sep='\\t', header=(0), index_col=0)"
   ]
  },
  {
   "cell_type": "code",
   "execution_count": 21,
   "metadata": {},
   "outputs": [],
   "source": [
    "# Get gene lists for all target clusters and reference target list\n",
    "\n",
    "clust5 = table[table.loc[:, 'Prediction'] == 5]\n",
    "clust5 = list(clust5.index)\n",
    "\n",
    "clust10 = table[table.loc[:, 'Prediction'] == 10]\n",
    "clust10 = list(clust10.index)\n",
    "\n",
    "clust11 = table[table.loc[:, 'Prediction'] == 11]\n",
    "clust11 = list(clust11.index)\n",
    "\n",
    "targets = pd.read_csv('TargetGenes.txt', sep= '\\t')\n",
    "targets = list(targets.iloc[:, 0])"
   ]
  },
  {
   "cell_type": "code",
   "execution_count": 29,
   "metadata": {},
   "outputs": [
    {
     "name": "stdout",
     "output_type": "stream",
     "text": [
      "[('unknown cellular component', 19), ('unknown molecular function', 14), ('unknown biological process', 10), ('cytosol', 8), ('plasma membrane', 7), ('cellular response to drug', 6), ('cytoplasm', 6), ('nucleus', 5), ('mitochondrial intermembrane space', 4), ('heme biosynthetic process', 4)]\n",
      "[('cellular response to oxidative stress', 6), ('oxidation-reduction process', 4), ('cytoplasm', 4), ('cellular detoxification of hydrogen peroxide', 3), ('hydrogen peroxide catabolic process', 3), ('thioredoxin peroxidase activity', 2), ('cell redox homeostasis', 2), ('cytosol', 2), ('mitochondrion', 2), ('positive regulation of transcription from RNA polymerase II promoter in response to oxidative stress', 2)]\n"
     ]
    }
   ],
   "source": [
    "from collections import Counter\n",
    "freq5 = []\n",
    "for gene in clust5:\n",
    "    freq5.extend(geneAnno[gene])\n",
    "freq5list = [item for item in Counter(freq5).most_common()]\n",
    "print(freq5list[0:10])\n",
    "\n",
    "freq10 = []\n",
    "for gene in clust10:\n",
    "    freq10.extend(geneAnno[gene])\n",
    "freq10list = [item for item in Counter(freq10).most_common()]\n",
    "print(freq10list[0:10])\n",
    "\n"
   ]
  }
 ],
 "metadata": {
  "kernelspec": {
   "display_name": "Python 3",
   "language": "python",
   "name": "python3"
  },
  "language_info": {
   "codemirror_mode": {
    "name": "ipython",
    "version": 3
   },
   "file_extension": ".py",
   "mimetype": "text/x-python",
   "name": "python",
   "nbconvert_exporter": "python",
   "pygments_lexer": "ipython3",
   "version": "3.7.1"
  },
  "varInspector": {
   "cols": {
    "lenName": 16,
    "lenType": 16,
    "lenVar": 40
   },
   "kernels_config": {
    "python": {
     "delete_cmd_postfix": "",
     "delete_cmd_prefix": "del ",
     "library": "var_list.py",
     "varRefreshCmd": "print(var_dic_list())"
    },
    "r": {
     "delete_cmd_postfix": ") ",
     "delete_cmd_prefix": "rm(",
     "library": "var_list.r",
     "varRefreshCmd": "cat(var_dic_list()) "
    }
   },
   "types_to_exclude": [
    "module",
    "function",
    "builtin_function_or_method",
    "instance",
    "_Feature"
   ],
   "window_display": false
  }
 },
 "nbformat": 4,
 "nbformat_minor": 2
}
