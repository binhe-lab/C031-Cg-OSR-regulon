{
 "cells": [
  {
   "cell_type": "code",
   "execution_count": 128,
   "metadata": {},
   "outputs": [],
   "source": [
    "import pandas as pd\n",
    "\n",
    "def addValuesToTable(df, colName, table):\n",
    "    for index,gene in enumerate(df.index):\n",
    "        value = df.loc[gene, colName]\n",
    "        table.loc[gene, colName] = transcriptomeValue\n",
    "        \n",
    "def getKuoValue(gene):\n",
    "    start = table.loc[gene].loc[\"START\"]\n",
    "    strand = table.loc[gene].loc[\"STRAND\"]\n",
    "    ran = start - 1000\n",
    "    if strand == '-':\n",
    "        ran = start\n",
    "        start = start + 1000\n",
    "    \n",
    "    # Reduce search space\n",
    "    chrom = 'chr0' + gene[5]\n",
    "    search = kuo.loc[chrom]\n",
    "    return search[(search.loc[:,\"START\"] < start) & \n",
    "                  (search.loc[:,\"END\"] > ran)]\n",
    "    \n",
    "    "
   ]
  },
  {
   "cell_type": "code",
   "execution_count": 44,
   "metadata": {},
   "outputs": [],
   "source": [
    "# Get general info for each gene: location, strand, start, end\n",
    "genInfo = pd.read_csv(\"C_glabrata_CBS138_current_feature_mochi_LocationSet.txt\",\n",
    "                 sep='\\t',header=(0))\n",
    "table = genInfo.iloc[:, [1,2,3,4]]\n",
    "table.index = table.iloc[:,3]\n",
    "table = table.iloc[:,[0,1,2]]\n",
    "\n",
    "# Add roetzer data column\n",
    "roetzer = pd.read_csv(\"Roetzer_Table_MochiView_DatasetByGene.txt\", sep='\\t',\n",
    "                     header = (0))\n",
    "roetzerYap = roetzer.iloc[:,[0,5]]\n",
    "roetzerYap.index = roetzer.iloc[:,0]\n",
    "roetzerYap = roetzerYap.iloc[:,[1]]\n",
    "\n",
    "addValuesToTable(roetzerYap, \"Yap1 Stressed\", table)\n",
    "    "
   ]
  },
  {
   "cell_type": "code",
   "execution_count": 60,
   "metadata": {
    "scrolled": true
   },
   "outputs": [
    {
     "name": "stdout",
     "output_type": "stream",
     "text": [
      "                 START  ...  Mean log2 fold change Rep2\n",
      "FEATURE_NAME            ...                            \n",
      "CAGL0A00105g    2636.0  ...                         NaN\n",
      "CAGL0A00110g    4809.0  ...                         NaN\n",
      "CAGL0A00116g    4809.0  ...                         NaN\n",
      "CAGL0A00132g   11739.0  ...                         NaN\n",
      "CAGL0A00154g   15012.0  ...                         NaN\n",
      "CAGL0A00165g   18876.0  ...                    0.517124\n",
      "CAGL0A00187g   21757.0  ...                    0.517124\n",
      "CAGL0A00209g   22260.0  ...                    0.517124\n",
      "CAGL0A00231g   25241.0  ...                    0.517124\n",
      "CAGL0A00253g   28586.0  ...                    0.517124\n",
      "CAGL0A00275g   29069.0  ...                    0.517124\n",
      "CAGL0A00297g   30775.0  ...                    0.517124\n",
      "CAGL0A00319g   30978.0  ...                    0.517124\n",
      "CAGL0A00341g   33056.0  ...                    0.517124\n",
      "CAGL0A00363g   36349.0  ...                    0.517124\n",
      "CAGL0A00385g   40371.0  ...                    0.517124\n",
      "CAGL0A00407g   41556.0  ...                    0.517124\n",
      "CAGL0A00429g   44030.0  ...                    0.517124\n",
      "CAGL0A00451g   47557.0  ...                    0.517124\n",
      "CAGL0A00473g   53497.0  ...                    0.517124\n",
      "CAGL0A00495g   57722.0  ...                    0.517124\n",
      "CAGL0A00517g   58830.0  ...                    0.517124\n",
      "CAGL0A00539g   63225.0  ...                    0.517124\n",
      "CAGL0A00561g   64948.0  ...                    0.517124\n",
      "CAGL0A00583g   65286.0  ...                    0.517124\n",
      "CAGL0A00605g   69203.0  ...                    0.517124\n",
      "CAGL0A00627g   69832.0  ...                    0.517124\n",
      "CAGL0A00649g   70937.0  ...                    0.517124\n",
      "CAGL0A00671r   71735.0  ...                         NaN\n",
      "CAGL0A00715g   73333.0  ...                    0.517124\n",
      "...                ...  ...                         ...\n",
      "CAGL0K00143g       NaN  ...                         NaN\n",
      "CAGL0K04763g       NaN  ...                         NaN\n",
      "CAGL0K06171g       NaN  ...                         NaN\n",
      "CAGL0K07359g       NaN  ...                         NaN\n",
      "CAGL0K07370g       NaN  ...                         NaN\n",
      "CAGL0K10802g       NaN  ...                         NaN\n",
      "CAGL0L00110g       NaN  ...                         NaN\n",
      "CAGL0L00154g       NaN  ...                         NaN\n",
      "CAGL0L00176g       NaN  ...                         NaN\n",
      "CAGL0L00198g       NaN  ...                         NaN\n",
      "CAGL0L00209g       NaN  ...                         NaN\n",
      "CAGL0L00253g       NaN  ...                         NaN\n",
      "CAGL0L03843        NaN  ...                         NaN\n",
      "CAGL0L03846        NaN  ...                    0.517124\n",
      "CAGL0L07524g       NaN  ...                         NaN\n",
      "CAGL0L08470g       NaN  ...                    0.517124\n",
      "CAGL0L09977g       NaN  ...                         NaN\n",
      "CAGL0L10087g       NaN  ...                         NaN\n",
      "CAGL0L10098g       NaN  ...                         NaN\n",
      "CAGL0L13310g       NaN  ...                         NaN\n",
      "CAGL0M02827g       NaN  ...                         NaN\n",
      "CAGL0M07810g       NaN  ...                         NaN\n",
      "CAGL0M08140g       NaN  ...                         NaN\n",
      "CAGL0M09163g       NaN  ...                         NaN\n",
      "CAGL0M10791g       NaN  ...                         NaN\n",
      "CAGL0M12078g       NaN  ...                         NaN\n",
      "CAGL0G07183g2      NaN  ...                    0.517124\n",
      "CAGL0H01611g       NaN  ...                    0.517124\n",
      "CAGL0F07161g       NaN  ...                    0.517124\n",
      "CAGL0B03611g       NaN  ...                    0.517124\n",
      "\n",
      "[5764 rows x 6 columns]\n"
     ]
    }
   ],
   "source": [
    "# Add Lelandais Transcriptome Data\n",
    "lelandais = pd.read_csv('TranscriptomeDataMochi.txt', sep='\\t',\n",
    "                       header=(0))\n",
    "lelandais.index = lelandais.iloc[:, 0]\n",
    "lelandais = lelandais.iloc[:, [1,3]]\n",
    "\n",
    "for i in lelandais.columns:\n",
    "    addValuesToTable(lelandais, i, table)\n"
   ]
  },
  {
   "cell_type": "code",
   "execution_count": 69,
   "metadata": {},
   "outputs": [
    {
     "name": "stdout",
     "output_type": "stream",
     "text": [
      "                START      END\n",
      "FEATURE_NAME                  \n",
      "CAGL0A00105g   2636.0   1608.0\n",
      "CAGL0A00110g   4809.0   1608.0\n",
      "CAGL0A00116g   4809.0   2671.0\n",
      "CAGL0A00132g  11739.0  12689.0\n",
      "CAGL0A00154g  15012.0  15233.0\n"
     ]
    }
   ],
   "source": [
    "table.columns = ['START', 'END', 'STRAND', 'Roetzer log2', 'Lelandais log2 Rep1',\n",
    "       'Lelandais log2 Rep2']\n",
    "\n",
    "print(table.head(5).loc[:, [\"START\", \"END\"]])"
   ]
  },
  {
   "cell_type": "code",
   "execution_count": 130,
   "metadata": {},
   "outputs": [
    {
     "name": "stdout",
     "output_type": "stream",
     "text": [
      "       START   END    REP1    REP2    REP3\n",
      "chr0A   2721  2780  0.1067  0.1991  0.1102\n",
      "chr0A   3103  3162  0.0611  0.0833  0.3266\n",
      "chr0A   3281  3340  0.1057  0.1851  0.1564\n",
      "START                  2636\n",
      "END                    1608\n",
      "STRAND                    -\n",
      "Roetzer log2            NaN\n",
      "Lelandais log2 Rep1     NaN\n",
      "Lelandais log2 Rep2     NaN\n",
      "Name: CAGL0A00105g, dtype: object\n"
     ]
    }
   ],
   "source": [
    "# Read in Kuo data\n",
    "kuo = pd.read_csv('Kuo_Data_MochiView_LocationDataset.txt', sep='\\t')\n",
    "kuo = kuo.iloc[:, [0,1,2,3,4]]\n",
    "kuo.columns = ['START', 'END', 'REP1', 'REP2', 'REP3']\n",
    "\n",
    "\n",
    "print(getKuoValue(\"CAGL0A00105g\"))\n",
    "print(table.loc[\"CAGL0A00105g\"])\n",
    "# print(ex.loc['chr0A'])"
   ]
  }
 ],
 "metadata": {
  "kernelspec": {
   "display_name": "Python 3",
   "language": "python",
   "name": "python3"
  },
  "language_info": {
   "codemirror_mode": {
    "name": "ipython",
    "version": 3
   },
   "file_extension": ".py",
   "mimetype": "text/x-python",
   "name": "python",
   "nbconvert_exporter": "python",
   "pygments_lexer": "ipython3",
   "version": "3.7.1"
  },
  "varInspector": {
   "cols": {
    "lenName": 16,
    "lenType": 16,
    "lenVar": 40
   },
   "kernels_config": {
    "python": {
     "delete_cmd_postfix": "",
     "delete_cmd_prefix": "del ",
     "library": "var_list.py",
     "varRefreshCmd": "print(var_dic_list())"
    },
    "r": {
     "delete_cmd_postfix": ") ",
     "delete_cmd_prefix": "rm(",
     "library": "var_list.r",
     "varRefreshCmd": "cat(var_dic_list()) "
    }
   },
   "types_to_exclude": [
    "module",
    "function",
    "builtin_function_or_method",
    "instance",
    "_Feature"
   ],
   "window_display": false
  }
 },
 "nbformat": 4,
 "nbformat_minor": 2
}
